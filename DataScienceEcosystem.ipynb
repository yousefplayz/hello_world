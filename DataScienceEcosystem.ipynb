{
 "cells": [
  {
   "cell_type": "markdown",
   "id": "b0fea49a-23d1-4fda-940f-6f45cffdd218",
   "metadata": {},
   "source": [
    "# Data Science Tools and Ecosystem"
   ]
  },
  {
   "cell_type": "markdown",
   "id": "3167c7a4-6e9e-47ab-8ced-086388048c60",
   "metadata": {},
   "source": [
    "In this notebook, Data Science Tools and Ecosystem are summarized."
   ]
  },
  {
   "cell_type": "markdown",
   "id": "3e6c5d86-9e96-4c65-9d0c-5030f9c0da2a",
   "metadata": {},
   "source": [
    "Some of the popular languages that Data Scientists use are:\n",
    "1. Python\n",
    "2. R\n",
    "3. SQL\n",
    "4. Java"
   ]
  },
  {
   "cell_type": "markdown",
   "id": "51fdec23-7cd8-47e1-b1cd-6d6203261b43",
   "metadata": {},
   "source": [
    "Some of the commonly used libraries used by Data Scientists include:\n",
    "1. TensorFlow\n",
    "2. NumPy\n",
    "3. SciPy\n",
    "4. Pandas\n",
    "5. Matplotlib"
   ]
  },
  {
   "cell_type": "markdown",
   "id": "1212b55a-a3d9-45af-ad8e-67cb6de66a06",
   "metadata": {
    "tags": []
   },
   "source": [
    "| Data Science Tools |\n",
    "| ------------------ |\n",
    "| Jupyter Notebooks |\n",
    "| Anaconda Environment |\n",
    "| GitHub |"
   ]
  },
  {
   "cell_type": "markdown",
   "id": "9f54b118-06e5-4a1b-87a4-1ebf8ac1fc54",
   "metadata": {},
   "source": [
    "### Below are a few examples of evaluating arithmetic expressions in Python"
   ]
  },
  {
   "cell_type": "code",
   "execution_count": 5,
   "id": "45bdc124-bade-47cf-acb7-ebf08d926a55",
   "metadata": {
    "tags": []
   },
   "outputs": [
    {
     "data": {
      "text/plain": [
       "17"
      ]
     },
     "execution_count": 5,
     "metadata": {},
     "output_type": "execute_result"
    }
   ],
   "source": [
    "#This a simple arithmetic expression to mutiply then add integers\n",
    "(3*4)+5"
   ]
  },
  {
   "cell_type": "code",
   "execution_count": 12,
   "id": "e7637581-44bc-4d8e-9e40-0fac92547ff4",
   "metadata": {
    "tags": []
   },
   "outputs": [
    {
     "name": "stdout",
     "output_type": "stream",
     "text": [
      "200 minutes to hours will be 3.3333333333333335 hours\n"
     ]
    }
   ],
   "source": [
    "# This will convert 200 minutes to hours by diving by 60\n",
    "minutes = 200\n",
    "print(str(minutes) + \" minutes to hours will be \" + str(minutes/60) + \" hours\")"
   ]
  },
  {
   "cell_type": "markdown",
   "id": "332a949b-a0fd-4ae4-877f-bf3212ef9eb0",
   "metadata": {},
   "source": [
    "__Objectives:__\n",
    "- Introduce several tools for Data Science\n",
    "- Provide insightful tips on how to utilize said tools\n",
    "- Demonstrate fundamental usage of basic commands in each tool\n",
    "- Define terminology respective to each tool"
   ]
  },
  {
   "cell_type": "markdown",
   "id": "a2334d70-8754-4ee2-8175-6c474169f22e",
   "metadata": {},
   "source": [
    "## Author\n",
    "Yousef Qasim"
   ]
  }
 ],
 "metadata": {
  "kernelspec": {
   "display_name": "Python",
   "language": "python",
   "name": "conda-env-python-py"
  },
  "language_info": {
   "codemirror_mode": {
    "name": "ipython",
    "version": 3
   },
   "file_extension": ".py",
   "mimetype": "text/x-python",
   "name": "python",
   "nbconvert_exporter": "python",
   "pygments_lexer": "ipython3",
   "version": "3.7.12"
  }
 },
 "nbformat": 4,
 "nbformat_minor": 5
}
